{
  "cells": [
    {
      "cell_type": "markdown",
      "metadata": {
        "id": "view-in-github",
        "colab_type": "text"
      },
      "source": [
        "<a href=\"https://colab.research.google.com/github/RoxieCardonax/CAB403Project/blob/master/VGG16_04.ipynb\" target=\"_parent\"><img src=\"https://colab.research.google.com/assets/colab-badge.svg\" alt=\"Open In Colab\"/></a>"
      ]
    },
    {
      "cell_type": "markdown",
      "metadata": {
        "id": "a00787eb-7397-4bb3-90e7-b4f862b6bb5d"
      },
      "source": [
        "# 1.0. Install Dependencies and Setup"
      ],
      "id": "a00787eb-7397-4bb3-90e7-b4f862b6bb5d"
    },
    {
      "cell_type": "code",
      "execution_count": 76,
      "metadata": {
        "colab": {
          "base_uri": "https://localhost:8080/"
        },
        "id": "wrzLd3u5A9sK",
        "outputId": "bd1ceba1-0ea9-4874-ec80-83c9b51958e0"
      },
      "outputs": [
        {
          "output_type": "stream",
          "name": "stdout",
          "text": [
            "Drive already mounted at /content/drive; to attempt to forcibly remount, call drive.mount(\"/content/drive\", force_remount=True).\n"
          ]
        }
      ],
      "source": [
        "from google.colab import drive\n",
        "drive.mount('/content/drive')"
      ],
      "id": "wrzLd3u5A9sK"
    },
    {
      "cell_type": "code",
      "execution_count": 77,
      "metadata": {
        "colab": {
          "base_uri": "https://localhost:8080/"
        },
        "id": "549fae32-5752-45b9-a97a-a666875fc00d",
        "outputId": "96d08528-5f46-41d8-f30a-6da875db344c",
        "scrolled": true
      },
      "outputs": [
        {
          "output_type": "stream",
          "name": "stdout",
          "text": [
            "Requirement already satisfied: tensorflow in /usr/local/lib/python3.10/dist-packages (2.13.0)\n",
            "Requirement already satisfied: opencv-python in /usr/local/lib/python3.10/dist-packages (4.8.0.76)\n",
            "Requirement already satisfied: matplotlib in /usr/local/lib/python3.10/dist-packages (3.7.1)\n",
            "Requirement already satisfied: absl-py>=1.0.0 in /usr/local/lib/python3.10/dist-packages (from tensorflow) (1.4.0)\n",
            "Requirement already satisfied: astunparse>=1.6.0 in /usr/local/lib/python3.10/dist-packages (from tensorflow) (1.6.3)\n",
            "Requirement already satisfied: flatbuffers>=23.1.21 in /usr/local/lib/python3.10/dist-packages (from tensorflow) (23.5.26)\n",
            "Requirement already satisfied: gast<=0.4.0,>=0.2.1 in /usr/local/lib/python3.10/dist-packages (from tensorflow) (0.4.0)\n",
            "Requirement already satisfied: google-pasta>=0.1.1 in /usr/local/lib/python3.10/dist-packages (from tensorflow) (0.2.0)\n",
            "Requirement already satisfied: grpcio<2.0,>=1.24.3 in /usr/local/lib/python3.10/dist-packages (from tensorflow) (1.58.0)\n",
            "Requirement already satisfied: h5py>=2.9.0 in /usr/local/lib/python3.10/dist-packages (from tensorflow) (3.9.0)\n",
            "Requirement already satisfied: keras<2.14,>=2.13.1 in /usr/local/lib/python3.10/dist-packages (from tensorflow) (2.13.1)\n",
            "Requirement already satisfied: libclang>=13.0.0 in /usr/local/lib/python3.10/dist-packages (from tensorflow) (16.0.6)\n",
            "Requirement already satisfied: numpy<=1.24.3,>=1.22 in /usr/local/lib/python3.10/dist-packages (from tensorflow) (1.23.5)\n",
            "Requirement already satisfied: opt-einsum>=2.3.2 in /usr/local/lib/python3.10/dist-packages (from tensorflow) (3.3.0)\n",
            "Requirement already satisfied: packaging in /usr/local/lib/python3.10/dist-packages (from tensorflow) (23.1)\n",
            "Requirement already satisfied: protobuf!=4.21.0,!=4.21.1,!=4.21.2,!=4.21.3,!=4.21.4,!=4.21.5,<5.0.0dev,>=3.20.3 in /usr/local/lib/python3.10/dist-packages (from tensorflow) (3.20.3)\n",
            "Requirement already satisfied: setuptools in /usr/local/lib/python3.10/dist-packages (from tensorflow) (67.7.2)\n",
            "Requirement already satisfied: six>=1.12.0 in /usr/local/lib/python3.10/dist-packages (from tensorflow) (1.16.0)\n",
            "Requirement already satisfied: tensorboard<2.14,>=2.13 in /usr/local/lib/python3.10/dist-packages (from tensorflow) (2.13.0)\n",
            "Requirement already satisfied: tensorflow-estimator<2.14,>=2.13.0 in /usr/local/lib/python3.10/dist-packages (from tensorflow) (2.13.0)\n",
            "Requirement already satisfied: termcolor>=1.1.0 in /usr/local/lib/python3.10/dist-packages (from tensorflow) (2.3.0)\n",
            "Requirement already satisfied: typing-extensions<4.6.0,>=3.6.6 in /usr/local/lib/python3.10/dist-packages (from tensorflow) (4.5.0)\n",
            "Requirement already satisfied: wrapt>=1.11.0 in /usr/local/lib/python3.10/dist-packages (from tensorflow) (1.15.0)\n",
            "Requirement already satisfied: tensorflow-io-gcs-filesystem>=0.23.1 in /usr/local/lib/python3.10/dist-packages (from tensorflow) (0.34.0)\n",
            "Requirement already satisfied: contourpy>=1.0.1 in /usr/local/lib/python3.10/dist-packages (from matplotlib) (1.1.1)\n",
            "Requirement already satisfied: cycler>=0.10 in /usr/local/lib/python3.10/dist-packages (from matplotlib) (0.12.0)\n",
            "Requirement already satisfied: fonttools>=4.22.0 in /usr/local/lib/python3.10/dist-packages (from matplotlib) (4.43.0)\n",
            "Requirement already satisfied: kiwisolver>=1.0.1 in /usr/local/lib/python3.10/dist-packages (from matplotlib) (1.4.5)\n",
            "Requirement already satisfied: pillow>=6.2.0 in /usr/local/lib/python3.10/dist-packages (from matplotlib) (9.4.0)\n",
            "Requirement already satisfied: pyparsing>=2.3.1 in /usr/local/lib/python3.10/dist-packages (from matplotlib) (3.1.1)\n",
            "Requirement already satisfied: python-dateutil>=2.7 in /usr/local/lib/python3.10/dist-packages (from matplotlib) (2.8.2)\n",
            "Requirement already satisfied: wheel<1.0,>=0.23.0 in /usr/local/lib/python3.10/dist-packages (from astunparse>=1.6.0->tensorflow) (0.41.2)\n",
            "Requirement already satisfied: google-auth<3,>=1.6.3 in /usr/local/lib/python3.10/dist-packages (from tensorboard<2.14,>=2.13->tensorflow) (2.17.3)\n",
            "Requirement already satisfied: google-auth-oauthlib<1.1,>=0.5 in /usr/local/lib/python3.10/dist-packages (from tensorboard<2.14,>=2.13->tensorflow) (1.0.0)\n",
            "Requirement already satisfied: markdown>=2.6.8 in /usr/local/lib/python3.10/dist-packages (from tensorboard<2.14,>=2.13->tensorflow) (3.4.4)\n",
            "Requirement already satisfied: requests<3,>=2.21.0 in /usr/local/lib/python3.10/dist-packages (from tensorboard<2.14,>=2.13->tensorflow) (2.31.0)\n",
            "Requirement already satisfied: tensorboard-data-server<0.8.0,>=0.7.0 in /usr/local/lib/python3.10/dist-packages (from tensorboard<2.14,>=2.13->tensorflow) (0.7.1)\n",
            "Requirement already satisfied: werkzeug>=1.0.1 in /usr/local/lib/python3.10/dist-packages (from tensorboard<2.14,>=2.13->tensorflow) (2.3.7)\n",
            "Requirement already satisfied: cachetools<6.0,>=2.0.0 in /usr/local/lib/python3.10/dist-packages (from google-auth<3,>=1.6.3->tensorboard<2.14,>=2.13->tensorflow) (5.3.1)\n",
            "Requirement already satisfied: pyasn1-modules>=0.2.1 in /usr/local/lib/python3.10/dist-packages (from google-auth<3,>=1.6.3->tensorboard<2.14,>=2.13->tensorflow) (0.3.0)\n",
            "Requirement already satisfied: rsa<5,>=3.1.4 in /usr/local/lib/python3.10/dist-packages (from google-auth<3,>=1.6.3->tensorboard<2.14,>=2.13->tensorflow) (4.9)\n",
            "Requirement already satisfied: requests-oauthlib>=0.7.0 in /usr/local/lib/python3.10/dist-packages (from google-auth-oauthlib<1.1,>=0.5->tensorboard<2.14,>=2.13->tensorflow) (1.3.1)\n",
            "Requirement already satisfied: charset-normalizer<4,>=2 in /usr/local/lib/python3.10/dist-packages (from requests<3,>=2.21.0->tensorboard<2.14,>=2.13->tensorflow) (3.2.0)\n",
            "Requirement already satisfied: idna<4,>=2.5 in /usr/local/lib/python3.10/dist-packages (from requests<3,>=2.21.0->tensorboard<2.14,>=2.13->tensorflow) (3.4)\n",
            "Requirement already satisfied: urllib3<3,>=1.21.1 in /usr/local/lib/python3.10/dist-packages (from requests<3,>=2.21.0->tensorboard<2.14,>=2.13->tensorflow) (2.0.5)\n",
            "Requirement already satisfied: certifi>=2017.4.17 in /usr/local/lib/python3.10/dist-packages (from requests<3,>=2.21.0->tensorboard<2.14,>=2.13->tensorflow) (2023.7.22)\n",
            "Requirement already satisfied: MarkupSafe>=2.1.1 in /usr/local/lib/python3.10/dist-packages (from werkzeug>=1.0.1->tensorboard<2.14,>=2.13->tensorflow) (2.1.3)\n",
            "Requirement already satisfied: pyasn1<0.6.0,>=0.4.6 in /usr/local/lib/python3.10/dist-packages (from pyasn1-modules>=0.2.1->google-auth<3,>=1.6.3->tensorboard<2.14,>=2.13->tensorflow) (0.5.0)\n",
            "Requirement already satisfied: oauthlib>=3.0.0 in /usr/local/lib/python3.10/dist-packages (from requests-oauthlib>=0.7.0->google-auth-oauthlib<1.1,>=0.5->tensorboard<2.14,>=2.13->tensorflow) (3.2.2)\n"
          ]
        }
      ],
      "source": [
        "!pip install tensorflow opencv-python matplotlib"
      ],
      "id": "549fae32-5752-45b9-a97a-a666875fc00d"
    },
    {
      "cell_type": "code",
      "execution_count": null,
      "metadata": {
        "colab": {
          "base_uri": "https://localhost:8080/"
        },
        "id": "405ee3d7-99d4-4a77-9f10-cb9ccca86db1",
        "outputId": "92ffeab0-b66e-4219-819d-840b4231295e",
        "scrolled": true
      },
      "outputs": [
        {
          "output_type": "stream",
          "name": "stdout",
          "text": [
            "Requirement already satisfied: scikit-learn in /usr/local/lib/python3.10/dist-packages (1.2.2)\n",
            "Requirement already satisfied: numpy>=1.17.3 in /usr/local/lib/python3.10/dist-packages (from scikit-learn) (1.23.5)\n",
            "Requirement already satisfied: scipy>=1.3.2 in /usr/local/lib/python3.10/dist-packages (from scikit-learn) (1.11.3)\n",
            "Requirement already satisfied: joblib>=1.1.1 in /usr/local/lib/python3.10/dist-packages (from scikit-learn) (1.3.2)\n",
            "Requirement already satisfied: threadpoolctl>=2.0.0 in /usr/local/lib/python3.10/dist-packages (from scikit-learn) (3.2.0)\n"
          ]
        }
      ],
      "source": [
        "!pip install scikit-learn"
      ],
      "id": "405ee3d7-99d4-4a77-9f10-cb9ccca86db1"
    },
    {
      "cell_type": "code",
      "execution_count": null,
      "metadata": {
        "id": "6ba8340e-7042-4db8-917f-454dd2fcad89",
        "scrolled": true
      },
      "outputs": [],
      "source": [
        "!pip list"
      ],
      "id": "6ba8340e-7042-4db8-917f-454dd2fcad89"
    },
    {
      "cell_type": "code",
      "execution_count": null,
      "metadata": {
        "id": "akoNFUTuI_9j"
      },
      "outputs": [],
      "source": [
        "!pip install keras"
      ],
      "id": "akoNFUTuI_9j"
    },
    {
      "cell_type": "code",
      "execution_count": null,
      "metadata": {
        "id": "8add44fd-1c72-4d7a-baa4-a9b8cf8bc225"
      },
      "outputs": [],
      "source": [
        "import tensorflow as tf\n",
        "import os"
      ],
      "id": "8add44fd-1c72-4d7a-baa4-a9b8cf8bc225"
    },
    {
      "cell_type": "code",
      "execution_count": null,
      "metadata": {
        "id": "fa2dbf8b-c60d-4ae8-ba38-8d06c96ca606",
        "scrolled": true
      },
      "outputs": [],
      "source": [
        "#Only use 50% of GPU\n",
        "from tensorflow.compat.v1 import ConfigProto\n",
        "from tensorflow.compat.v1 import InteractiveSession\n",
        "\n",
        "config = ConfigProto()\n",
        "config.gpu_options.per_process_gpu_memory_fraction = 0.5\n",
        "config.gpu_options.allow_growth = True\n",
        "session = InteractiveSession(config=config)\n",
        "\n",
        "gpu_info = !nvidia-smi\n",
        "gpu_info = '\\n'.join(gpu_info)\n",
        "if gpu_info.find('failed') >= 0:\n",
        "  print('Not connected to a GPU')\n",
        "else:\n",
        "  print(gpu_info)"
      ],
      "id": "fa2dbf8b-c60d-4ae8-ba38-8d06c96ca606"
    },
    {
      "cell_type": "markdown",
      "metadata": {
        "id": "028985e6-cb84-494b-a7e0-8a6697a94d95"
      },
      "source": [
        "## 1.1. Remove Dodgy Image"
      ],
      "id": "028985e6-cb84-494b-a7e0-8a6697a94d95"
    },
    {
      "cell_type": "code",
      "execution_count": null,
      "metadata": {
        "id": "097fe32d-b465-4e44-ada9-b0eb84770fb0"
      },
      "outputs": [],
      "source": [
        "import cv2\n",
        "import imghdr # allows to check file extensions\n",
        "from matplotlib import pyplot as plt"
      ],
      "id": "097fe32d-b465-4e44-ada9-b0eb84770fb0"
    },
    {
      "cell_type": "code",
      "execution_count": null,
      "metadata": {
        "id": "3a898e04-ad6b-4c05-8704-4303398b4ad6"
      },
      "outputs": [],
      "source": [
        "data_dir = '/content/drive/MyDrive/leafhealth/resize_data' #variable to hold path to data directory"
      ],
      "id": "3a898e04-ad6b-4c05-8704-4303398b4ad6"
    },
    {
      "cell_type": "code",
      "execution_count": null,
      "metadata": {
        "id": "2d5783f7-7eb0-4e47-a1b2-05b5e17036f0"
      },
      "outputs": [],
      "source": [
        "image_extensions = ['jpeg','jpg', 'bmp', 'png'] #list of standard image file extensions"
      ],
      "id": "2d5783f7-7eb0-4e47-a1b2-05b5e17036f0"
    },
    {
      "cell_type": "code",
      "execution_count": null,
      "metadata": {
        "id": "eb0a7cef-e796-4b16-8f42-c7b00358a2c0",
        "scrolled": true
      },
      "outputs": [],
      "source": [
        "# for loop - looping through directory and then every image to check if they can be used by cv2 and imghdr if not then they are removed\n",
        "for image_class in os.listdir(data_dir):\n",
        "    for image in os.listdir(os.path.join(data_dir, image_class)):\n",
        "        image_path = os.path.join(data_dir, image_class, image)\n",
        "        try:\n",
        "            img = cv2.imread(image_path) #not a valid image\n",
        "            tip = imghdr.what(image_path) #not a valid image extension\n",
        "            if tip not in image_extensions:\n",
        "                print('Image not in ext list {}'.format(image_path))\n",
        "                os.remove(image_path)\n",
        "        except Exception as e:\n",
        "            print('Issue with image {}'.format(image_path))\n",
        "            # os.remove(image_path)"
      ],
      "id": "eb0a7cef-e796-4b16-8f42-c7b00358a2c0"
    },
    {
      "cell_type": "code",
      "execution_count": null,
      "metadata": {
        "id": "edfabcc9-81e5-4c63-8993-7aa34aee7e31"
      },
      "outputs": [],
      "source": [
        "#How many classes are there?\n",
        "num_classes = 0\n",
        "\n",
        "#Iterate Directory\n",
        "for path in os.listdir(data_dir):\n",
        "    num_classes += 1\n",
        "print ('File count:', num_classes)\n"
      ],
      "id": "edfabcc9-81e5-4c63-8993-7aa34aee7e31"
    },
    {
      "cell_type": "markdown",
      "metadata": {
        "id": "94750004-cf8d-4408-81ff-2afafb6d0f50"
      },
      "source": [
        "# 2.0. Load Data"
      ],
      "id": "94750004-cf8d-4408-81ff-2afafb6d0f50"
    },
    {
      "cell_type": "code",
      "execution_count": null,
      "metadata": {
        "id": "3cce3e8d-5281-4711-8fd9-00f5678d4678"
      },
      "outputs": [],
      "source": [
        "import numpy as np\n",
        "from matplotlib import pyplot as plt"
      ],
      "id": "3cce3e8d-5281-4711-8fd9-00f5678d4678"
    },
    {
      "cell_type": "code",
      "execution_count": null,
      "metadata": {
        "id": "7da99da9-d141-4ec8-a9dd-6466c66e700d"
      },
      "outputs": [],
      "source": [
        "#Build the data pipeline\n",
        "data = tf.keras.utils.image_dataset_from_directory(\n",
        "    '/content/drive/MyDrive/leafhealth/data',\n",
        "    labels='inferred',\n",
        "    label_mode='binary',\n",
        "    class_names=None,\n",
        "    color_mode='rgb',\n",
        "    batch_size=32,\n",
        "    image_size=(224, 224),\n",
        "    shuffle=True,\n",
        "    seed=None,\n",
        "    validation_split=None,\n",
        "    subset=None,\n",
        "    interpolation='bilinear',\n",
        "    follow_links=False,\n",
        "    crop_to_aspect_ratio=False,\n",
        ")"
      ],
      "id": "7da99da9-d141-4ec8-a9dd-6466c66e700d"
    },
    {
      "cell_type": "code",
      "execution_count": null,
      "metadata": {
        "id": "9082df8c-7aa1-43e2-a51a-f72d6f622d03"
      },
      "outputs": [],
      "source": [
        "len(data)"
      ],
      "id": "9082df8c-7aa1-43e2-a51a-f72d6f622d03"
    },
    {
      "cell_type": "code",
      "execution_count": null,
      "metadata": {
        "id": "2d664e80-6194-43ec-baf9-791ac2e55f65"
      },
      "outputs": [],
      "source": [
        "data_iterator = data.as_numpy_iterator() #access the generator from data pipeline - allowing us to loop through data pipeline"
      ],
      "id": "2d664e80-6194-43ec-baf9-791ac2e55f65"
    },
    {
      "cell_type": "code",
      "execution_count": null,
      "metadata": {
        "id": "7aff67e2-95f0-4f6c-9091-ce980f1b079c"
      },
      "outputs": [],
      "source": [
        "batch = data_iterator.next() #accessing the data piepline itself"
      ],
      "id": "7aff67e2-95f0-4f6c-9091-ce980f1b079c"
    },
    {
      "cell_type": "code",
      "execution_count": null,
      "metadata": {
        "id": "ebdf2815-de5f-41e7-a523-8693c79b7ef1",
        "scrolled": true
      },
      "outputs": [],
      "source": [
        "# for loop - looping through the images and classifying them as healthy = 0 and unhealthy = 1\n",
        "#shows the classifications 0=healthy, 1 = unhealthy\n",
        "fig, ax = plt.subplots(ncols=4, figsize=(20,20))\n",
        "for idx, img in enumerate(batch[0][:4]):\n",
        "    ax[idx].imshow(img.astype(int))\n",
        "    ax[idx].title.set_text(batch[1][idx])"
      ],
      "id": "ebdf2815-de5f-41e7-a523-8693c79b7ef1"
    },
    {
      "cell_type": "markdown",
      "metadata": {
        "id": "0854eaf6-df51-48f3-a7f2-1b84470b3631"
      },
      "source": [
        "# 3.0. Pre-Processing Data"
      ],
      "id": "0854eaf6-df51-48f3-a7f2-1b84470b3631"
    },
    {
      "cell_type": "markdown",
      "metadata": {
        "id": "24e9020a-dff5-43bc-a81a-8e3334d6c8b2"
      },
      "source": [
        "## 3.1. Scale Data"
      ],
      "id": "24e9020a-dff5-43bc-a81a-8e3334d6c8b2"
    },
    {
      "cell_type": "code",
      "execution_count": null,
      "metadata": {
        "id": "4e80e237-6f23-4985-8d13-6cd68760a8ad"
      },
      "outputs": [],
      "source": [
        "data = data.map(lambda x,y: (x/255, y)) #map - applies a particular transformation as data is being preprocessed by the data pipeline... x = images, y = target values"
      ],
      "id": "4e80e237-6f23-4985-8d13-6cd68760a8ad"
    },
    {
      "cell_type": "code",
      "execution_count": null,
      "metadata": {
        "id": "2779d8e0-6be7-4500-a793-314f4c40659b"
      },
      "outputs": [],
      "source": [
        "scaled_iterator=data.as_numpy_iterator()"
      ],
      "id": "2779d8e0-6be7-4500-a793-314f4c40659b"
    },
    {
      "cell_type": "code",
      "execution_count": null,
      "metadata": {
        "id": "219f101b-76cc-40b6-8e42-f384e0280bd8"
      },
      "outputs": [],
      "source": [
        "batch = scaled_iterator.next()"
      ],
      "id": "219f101b-76cc-40b6-8e42-f384e0280bd8"
    },
    {
      "cell_type": "code",
      "execution_count": null,
      "metadata": {
        "id": "03edc450-566e-446e-922f-a83b4320aaf6"
      },
      "outputs": [],
      "source": [
        "#CHECK FOR BATCH MAX AND MIN 0 - 1\n",
        "#batch [0].min()\n",
        "batch [0].max()"
      ],
      "id": "03edc450-566e-446e-922f-a83b4320aaf6"
    },
    {
      "cell_type": "code",
      "execution_count": null,
      "metadata": {
        "id": "fe9e77d6-2796-4fd5-b809-b67526224ef5"
      },
      "outputs": [],
      "source": [
        "#CHECK IF IMAGES ARE LOADED AND SCALED\n",
        "fig, ax = plt.subplots(ncols=4, figsize=(20,20))\n",
        "for idx, img in enumerate(batch[0][:4]):\n",
        "    ax[idx].imshow(img)\n",
        "    ax[idx].title.set_text(batch[1][idx])\n",
        "    #shows the classifications unhealthy = 1 and healthy = 0"
      ],
      "id": "fe9e77d6-2796-4fd5-b809-b67526224ef5"
    },
    {
      "cell_type": "markdown",
      "metadata": {
        "id": "1353f6e3-9e14-41f6-8c6c-12ec6fbbd2ae"
      },
      "source": [
        "## 3.2. Split Data"
      ],
      "id": "1353f6e3-9e14-41f6-8c6c-12ec6fbbd2ae"
    },
    {
      "cell_type": "code",
      "execution_count": null,
      "metadata": {
        "id": "29553913-f295-4d41-a78e-064ce788bc8a"
      },
      "outputs": [],
      "source": [
        "#Partitian Allocation\n",
        "train_size = np.array((len(data)*.7)) #training will be 70% of data\n",
        "val_size = np.array((len(data)*.2)) #20% for validation\n",
        "test_size = np.array((len(data)*.1+1)) #10% testing + 1 because the data is an uneven number"
      ],
      "id": "29553913-f295-4d41-a78e-064ce788bc8a"
    },
    {
      "cell_type": "code",
      "execution_count": null,
      "metadata": {
        "id": "8ad15a8a-65d7-4287-bb31-ac1e3fc3701f"
      },
      "outputs": [],
      "source": [
        "#CHECK that it is equal to length\n",
        "train_size+val_size+test_size"
      ],
      "id": "8ad15a8a-65d7-4287-bb31-ac1e3fc3701f"
    },
    {
      "cell_type": "code",
      "execution_count": null,
      "metadata": {
        "id": "1677ebc7-1308-45b8-bac4-ff5f793004b8"
      },
      "outputs": [],
      "source": [
        "train = data.take(train_size)\n",
        "val = data.skip(train_size).take(val_size)\n",
        "test = data.skip(train_size+val_size).take(test_size)"
      ],
      "id": "1677ebc7-1308-45b8-bac4-ff5f793004b8"
    },
    {
      "cell_type": "code",
      "execution_count": null,
      "metadata": {
        "id": "c98dd4b5-b825-4303-8e87-2dad4a93caf1"
      },
      "outputs": [],
      "source": [
        "len(test)"
      ],
      "id": "c98dd4b5-b825-4303-8e87-2dad4a93caf1"
    },
    {
      "cell_type": "markdown",
      "metadata": {
        "id": "fb8dc773-3e8c-43ec-91da-4330cd979223"
      },
      "source": [
        "# 4.0. Deep Learning Model"
      ],
      "id": "fb8dc773-3e8c-43ec-91da-4330cd979223"
    },
    {
      "cell_type": "markdown",
      "metadata": {
        "id": "b1431495-9f1b-4cd0-9254-5ddc1f247f38"
      },
      "source": [
        "## 4.1. Load VGG16 Model"
      ],
      "id": "b1431495-9f1b-4cd0-9254-5ddc1f247f38"
    },
    {
      "cell_type": "code",
      "execution_count": null,
      "metadata": {
        "id": "e55ef345-1825-4500-9d55-92dcbdac009a"
      },
      "outputs": [],
      "source": [
        "from tensorflow.keras.applications.vgg16 import VGG16, preprocess_input, decode_predictions\n",
        "from tensorflow.keras.models import Sequential\n",
        "from tensorflow.keras.layers import Dense, Flatten, Dropout\n",
        "from tensorflow.keras.preprocessing.image import load_img, img_to_array\n",
        "from tensorflow.keras.optimizers import Adam\n",
        "from tensorflow.keras.optimizers import SGD\n",
        "from tensorflow.keras.models import Model\n"
      ],
      "id": "e55ef345-1825-4500-9d55-92dcbdac009a"
    },
    {
      "cell_type": "code",
      "execution_count": null,
      "metadata": {
        "id": "3xYsIzrj-9uP"
      },
      "outputs": [],
      "source": [
        "base_model = VGG16(weights='imagenet', include_top=False, input_shape=(224, 224, 3))"
      ],
      "id": "3xYsIzrj-9uP"
    },
    {
      "cell_type": "code",
      "execution_count": null,
      "metadata": {
        "id": "_RCQIfbe-CLA"
      },
      "outputs": [],
      "source": [
        "# Freeze the pre-trained layers to prevent them from being updated during training\n",
        "for layer in base_model.layers:\n",
        "    layer.trainable = False"
      ],
      "id": "_RCQIfbe-CLA"
    },
    {
      "cell_type": "code",
      "execution_count": null,
      "metadata": {
        "id": "-TnhuMEg_QGV"
      },
      "outputs": [],
      "source": [
        "# Add custom classification layers on top of VGG16\n",
        "x = Flatten()(base_model.output)\n",
        "x = Dense(512, activation='relu')(x)\n",
        "x = Dropout(0.5)(x)  # Optional: Add dropout for regularization\n",
        "output = Dense(1, activation='sigmoid')(x)  # Binary classification output\n"
      ],
      "id": "-TnhuMEg_QGV"
    },
    {
      "cell_type": "code",
      "source": [
        "# Create the model\n",
        "model = Model(inputs=base_model.input, outputs=output)"
      ],
      "metadata": {
        "id": "gkXCklTtef8O"
      },
      "id": "gkXCklTtef8O",
      "execution_count": null,
      "outputs": []
    },
    {
      "cell_type": "code",
      "execution_count": null,
      "metadata": {
        "id": "fPmv7trGjk9V"
      },
      "outputs": [],
      "source": [
        "model.summary()"
      ],
      "id": "fPmv7trGjk9V"
    },
    {
      "cell_type": "code",
      "execution_count": null,
      "metadata": {
        "id": "8a0326d2-7305-4e85-9ec6-93fc9a257160"
      },
      "outputs": [],
      "source": [
        "# Compile the model\n",
        "model.compile(\n",
        "    optimizer=Adam(learning_rate=0.0001),  # Adjust the learning rate as needed\n",
        "    loss='binary_crossentropy',  # Binary cross-entropy for binary classification\n",
        "    metrics=['accuracy']\n",
        ")"
      ],
      "id": "8a0326d2-7305-4e85-9ec6-93fc9a257160"
    },
    {
      "cell_type": "markdown",
      "metadata": {
        "id": "460af860-cb9d-4166-b64d-4c557c7dfcd2"
      },
      "source": [
        "## 4.2. Train"
      ],
      "id": "460af860-cb9d-4166-b64d-4c557c7dfcd2"
    },
    {
      "cell_type": "code",
      "execution_count": null,
      "metadata": {
        "id": "595b5d97-80d9-4589-917b-6c8605717b69"
      },
      "outputs": [],
      "source": [
        "from tensorflow.keras.callbacks import TensorBoard"
      ],
      "id": "595b5d97-80d9-4589-917b-6c8605717b69"
    },
    {
      "cell_type": "code",
      "execution_count": null,
      "metadata": {
        "id": "0ca6717a-4c78-4e0d-aa57-2941ae943e23"
      },
      "outputs": [],
      "source": [
        "logdir='logs'"
      ],
      "id": "0ca6717a-4c78-4e0d-aa57-2941ae943e23"
    },
    {
      "cell_type": "code",
      "execution_count": null,
      "metadata": {
        "id": "c00b0899-32f5-433a-9344-0737b9504c43"
      },
      "outputs": [],
      "source": [
        "tensorboard_callback = tf.keras.callbacks.TensorBoard(log_dir=logdir)"
      ],
      "id": "c00b0899-32f5-433a-9344-0737b9504c43"
    },
    {
      "cell_type": "code",
      "execution_count": null,
      "metadata": {
        "id": "5eecf4ee-ebc7-40a8-bcfa-020b86b540fd"
      },
      "outputs": [],
      "source": [
        "hist = model.fit(train, epochs=10, validation_data=val) #fit is the training function"
      ],
      "id": "5eecf4ee-ebc7-40a8-bcfa-020b86b540fd"
    },
    {
      "cell_type": "markdown",
      "metadata": {
        "id": "08bfb9ba-7656-4989-bdd4-e3d74c800bae"
      },
      "source": [
        "## 4.3. Plot Performance"
      ],
      "id": "08bfb9ba-7656-4989-bdd4-e3d74c800bae"
    },
    {
      "cell_type": "code",
      "execution_count": 75,
      "metadata": {
        "colab": {
          "base_uri": "https://localhost:8080/",
          "height": 478
        },
        "id": "bd1ec7b4-3812-42d3-8dbb-f949bb223f64",
        "outputId": "cdad0d87-0cef-4c16-ef30-9d55e8823eed"
      },
      "outputs": [
        {
          "output_type": "display_data",
          "data": {
            "text/plain": [
              "<Figure size 640x480 with 1 Axes>"
            ],
            "image/png": "[encoded data removed]"
          },
          "metadata": {}
        }
      ],
      "source": [
        "fig = plt.figure()\n",
        "plt.plot(hist.history['loss'], color='teal', label='loss')\n",
        "plt.plot(hist.history['val_loss'], color='orange', label='val_loss')\n",
        "fig.suptitle('Loss', fontsize=20)\n",
        "plt.legend(loc=\"upper left\")\n",
        "plt.show()"
      ],
      "id": "bd1ec7b4-3812-42d3-8dbb-f949bb223f64"
    },
    {
      "cell_type": "code",
      "execution_count": null,
      "metadata": {
        "colab": {
          "background_save": true
        },
        "id": "4ab696ef-6e94-4a82-b73d-ee305390c510"
      },
      "outputs": [],
      "source": [
        "fig = plt.figure()\n",
        "plt.plot(hist.history['accuracy'], color='teal', label='accuracy')\n",
        "plt.plot(hist.history['val_accuracy'], color='orange', label='val_accuracy')\n",
        "fig.suptitle('Accuracy', fontsize=20)\n",
        "plt.legend(loc=\"upper left\")\n",
        "plt.show()"
      ],
      "id": "4ab696ef-6e94-4a82-b73d-ee305390c510"
    },
    {
      "cell_type": "markdown",
      "metadata": {
        "id": "8c9cc62a-b2a7-4568-9a20-b25e9a445958"
      },
      "source": [
        "# 5.0 Evaluate"
      ],
      "id": "8c9cc62a-b2a7-4568-9a20-b25e9a445958"
    },
    {
      "cell_type": "code",
      "execution_count": null,
      "metadata": {
        "id": "8adb0ebe-84da-4dfe-911d-c3fcaaba8b46"
      },
      "outputs": [],
      "source": [
        "from tensorflow.keras.metrics import Precision, Recall, BinaryAccuracy"
      ],
      "id": "8adb0ebe-84da-4dfe-911d-c3fcaaba8b46"
    },
    {
      "cell_type": "code",
      "execution_count": null,
      "metadata": {
        "id": "aeb9205e-a298-4333-8e41-e10003d0da94"
      },
      "outputs": [],
      "source": [
        "pre = Precision()\n",
        "re = Recall()\n",
        "acc = BinaryAccuracy()"
      ],
      "id": "aeb9205e-a298-4333-8e41-e10003d0da94"
    },
    {
      "cell_type": "code",
      "execution_count": null,
      "metadata": {
        "id": "ee4b830b-b133-471e-b542-3e89ccea47b8"
      },
      "outputs": [],
      "source": [
        "for batch in test.as_numpy_iterator():\n",
        "    X, y = batch\n",
        "    yhat = model.predict(X)\n",
        "    pre.update_state(y, yhat)\n",
        "    re.update_state(y, yhat)\n",
        "    acc.update_state(y, yhat)"
      ],
      "id": "ee4b830b-b133-471e-b542-3e89ccea47b8"
    },
    {
      "cell_type": "code",
      "execution_count": null,
      "metadata": {
        "id": "3c52acca-04d3-4117-8e16-463a8e2cdbdc"
      },
      "outputs": [],
      "source": [
        "print(f'Precision:{pre.result().numpy()}, Recall:{re.result().numpy()}, Accuracy: {acc.result().numpy()}')"
      ],
      "id": "3c52acca-04d3-4117-8e16-463a8e2cdbdc"
    },
    {
      "cell_type": "markdown",
      "metadata": {
        "id": "5bb5d4bb-1962-49d0-9eed-984881a54807"
      },
      "source": [
        "## 5.1 Predications"
      ],
      "id": "5bb5d4bb-1962-49d0-9eed-984881a54807"
    },
    {
      "cell_type": "code",
      "execution_count": null,
      "metadata": {
        "colab": {
          "background_save": true
        },
        "id": "f9300e3c-75e6-483c-916b-9d736c15cb62"
      },
      "outputs": [],
      "source": [
        "def plotImages(images_arr):\n",
        "    fig, axes = plt.subplots(1, 10, figsize=(20,20))\n",
        "    axes = axes.flatten()\n",
        "    for img, ax in zip( images_arr, axes):\n",
        "        ax.imshow(img)\n",
        "        ax.axis('off')\n",
        "    plt.tight_layout()\n",
        "    plt.show()"
      ],
      "id": "f9300e3c-75e6-483c-916b-9d736c15cb62"
    },
    {
      "cell_type": "code",
      "execution_count": null,
      "metadata": {
        "colab": {
          "background_save": true
        },
        "id": "ca4a3aad-9637-4bc1-be3e-daa4cd18954b"
      },
      "outputs": [],
      "source": [
        "test_labels = y"
      ],
      "id": "ca4a3aad-9637-4bc1-be3e-daa4cd18954b"
    },
    {
      "cell_type": "code",
      "execution_count": null,
      "metadata": {
        "colab": {
          "background_save": true
        },
        "id": "4e2508dd-23cd-456e-8b44-7211210440e6"
      },
      "outputs": [],
      "source": [
        "plotImages(X)\n",
        "print(test_labels)"
      ],
      "id": "4e2508dd-23cd-456e-8b44-7211210440e6"
    },
    {
      "cell_type": "code",
      "execution_count": null,
      "metadata": {
        "colab": {
          "background_save": true
        },
        "id": "0dfd5292-988b-44f1-89df-d0bebd66b9d7"
      },
      "outputs": [],
      "source": [
        "predictions = yhat"
      ],
      "id": "0dfd5292-988b-44f1-89df-d0bebd66b9d7"
    },
    {
      "cell_type": "code",
      "execution_count": null,
      "metadata": {
        "colab": {
          "background_save": true
        },
        "id": "d1417325-1edd-4447-9289-4d7b1510bafb"
      },
      "outputs": [],
      "source": [
        "flatten_pred = predictions.flatten()"
      ],
      "id": "d1417325-1edd-4447-9289-4d7b1510bafb"
    },
    {
      "cell_type": "code",
      "execution_count": null,
      "metadata": {
        "colab": {
          "background_save": true
        },
        "id": "615abd07-caa2-464e-8885-5f9dea8ecc3d"
      },
      "outputs": [],
      "source": [
        "# Convert to 0 and 1\n",
        "round_pred=[]\n",
        "\n",
        "for x in flatten_pred:\n",
        "    if x < 0:\n",
        "        x=0\n",
        "    else:\n",
        "        x=1\n",
        "    round_pred.append(x)"
      ],
      "id": "615abd07-caa2-464e-8885-5f9dea8ecc3d"
    },
    {
      "cell_type": "code",
      "execution_count": null,
      "metadata": {
        "colab": {
          "background_save": true
        },
        "id": "0002a1db-51c4-42fc-ae3b-52fe124b0737"
      },
      "outputs": [],
      "source": [
        "round_pred=np.array(round_pred)"
      ],
      "id": "0002a1db-51c4-42fc-ae3b-52fe124b0737"
    },
    {
      "cell_type": "code",
      "execution_count": null,
      "metadata": {
        "colab": {
          "background_save": true
        },
        "id": "eff6d6d3-7b7d-40a1-82ff-86389c737f64"
      },
      "outputs": [],
      "source": [
        "round_pred"
      ],
      "id": "eff6d6d3-7b7d-40a1-82ff-86389c737f64"
    },
    {
      "cell_type": "code",
      "execution_count": null,
      "metadata": {
        "colab": {
          "background_save": true
        },
        "id": "7832ef81-40ac-441a-8d9a-159dadc1fa67"
      },
      "outputs": [],
      "source": [
        "test_labels"
      ],
      "id": "7832ef81-40ac-441a-8d9a-159dadc1fa67"
    },
    {
      "cell_type": "markdown",
      "metadata": {
        "id": "7acce02d-763c-4689-88fb-141958980c5e"
      },
      "source": [
        "## 5.2 Confusion Matrix"
      ],
      "id": "7acce02d-763c-4689-88fb-141958980c5e"
    },
    {
      "cell_type": "code",
      "execution_count": null,
      "metadata": {
        "colab": {
          "background_save": true
        },
        "id": "fd6697a4-8358-4cf5-a61f-da112821a41f"
      },
      "outputs": [],
      "source": [
        "from sklearn.metrics import confusion_matrix\n",
        "import itertools\n",
        "import matplotlib.pyplot as plt"
      ],
      "id": "fd6697a4-8358-4cf5-a61f-da112821a41f"
    },
    {
      "cell_type": "code",
      "execution_count": null,
      "metadata": {
        "colab": {
          "background_save": true
        },
        "id": "96c9b48e-0ebc-4573-a453-fb10a547c0b3"
      },
      "outputs": [],
      "source": [
        "cm = confusion_matrix(y_true=test_labels, y_pred=round_pred)"
      ],
      "id": "96c9b48e-0ebc-4573-a453-fb10a547c0b3"
    },
    {
      "cell_type": "code",
      "execution_count": null,
      "metadata": {
        "colab": {
          "background_save": true
        },
        "id": "520bd8da-5fce-4b7b-9ca9-5d45899192ed"
      },
      "outputs": [],
      "source": [
        "def plot_confusion_matrix(cm, classes,\n",
        "                        normalize=False,\n",
        "                        title='Confusion matrix',\n",
        "                        cmap=plt.cm.Blues):\n",
        "    \"\"\"\n",
        "    This function prints and plots the confusion matrix.\n",
        "    Normalization can be applied by setting `normalize=True`.\n",
        "    \"\"\"\n",
        "    plt.imshow(cm, interpolation='nearest', cmap=cmap)\n",
        "    plt.title(title)\n",
        "    plt.colorbar()\n",
        "    tick_marks = np.arange(len(classes))\n",
        "    plt.xticks(tick_marks, classes, rotation=45)\n",
        "    plt.yticks(tick_marks, classes)\n",
        "\n",
        "    if normalize:\n",
        "        cm = cm.astype('float') / cm.sum(axis=1)[:, np.newaxis]\n",
        "        print(\"Normalized confusion matrix\")\n",
        "    else:\n",
        "        print('Confusion matrix, without normalization')\n",
        "\n",
        "    print(cm)\n",
        "\n",
        "    thresh = cm.max() / 2.\n",
        "    for i, j in itertools.product(range(cm.shape[0]), range(cm.shape[1])):\n",
        "        plt.text(j, i, cm[i, j],\n",
        "            horizontalalignment=\"center\",\n",
        "            color=\"white\" if cm[i, j] > thresh else \"black\")\n",
        "\n",
        "    plt.tight_layout()\n",
        "    plt.ylabel('True label')\n",
        "    plt.xlabel('Predicted label')"
      ],
      "id": "520bd8da-5fce-4b7b-9ca9-5d45899192ed"
    },
    {
      "cell_type": "code",
      "execution_count": null,
      "metadata": {
        "colab": {
          "background_save": true
        },
        "id": "20d2be96-507f-47b8-bf99-721588cc309f"
      },
      "outputs": [],
      "source": [
        "cm_plot_labels = ['healthy','unhealthy']"
      ],
      "id": "20d2be96-507f-47b8-bf99-721588cc309f"
    },
    {
      "cell_type": "code",
      "execution_count": null,
      "metadata": {
        "colab": {
          "background_save": true
        },
        "id": "7c70f1ea-fc1c-4918-8abe-f7907a60a039"
      },
      "outputs": [],
      "source": [
        "plot_confusion_matrix(cm=cm, classes=cm_plot_labels, title='Confusion Matrix')"
      ],
      "id": "7c70f1ea-fc1c-4918-8abe-f7907a60a039"
    },
    {
      "cell_type": "markdown",
      "metadata": {
        "id": "affec167-f53f-44d9-a38b-ed33132932ec"
      },
      "source": [
        "# 6.0 Test"
      ],
      "id": "affec167-f53f-44d9-a38b-ed33132932ec"
    },
    {
      "cell_type": "code",
      "execution_count": null,
      "metadata": {
        "id": "3d596a8c-76dc-4c75-8afa-29a49f31db30"
      },
      "outputs": [],
      "source": [
        "import cv2\n",
        "from matplotlib import pyplot as plt"
      ],
      "id": "3d596a8c-76dc-4c75-8afa-29a49f31db30"
    },
    {
      "cell_type": "code",
      "execution_count": null,
      "metadata": {
        "id": "5004ec2e-80f8-41af-8e2b-4963afb74105"
      },
      "outputs": [],
      "source": [
        "img = cv2.imread('healthy_test.jpg')\n",
        "plt.imshow(img)\n",
        "plt.show()"
      ],
      "id": "5004ec2e-80f8-41af-8e2b-4963afb74105"
    },
    {
      "cell_type": "code",
      "execution_count": null,
      "metadata": {
        "id": "20b33594-c75c-4614-8cf1-e2b0c9b458f6"
      },
      "outputs": [],
      "source": [
        "resize = tf.image.resize(img, (256,256))\n",
        "plt.imshow(resize.numpy().astype(int))\n",
        "plt.show()"
      ],
      "id": "20b33594-c75c-4614-8cf1-e2b0c9b458f6"
    },
    {
      "cell_type": "code",
      "execution_count": null,
      "metadata": {
        "id": "e3681c09-e445-48b3-8d0e-1475020be4af"
      },
      "outputs": [],
      "source": [
        "yhat = model.predict(np.expand_dims(resize/255, 0))"
      ],
      "id": "e3681c09-e445-48b3-8d0e-1475020be4af"
    },
    {
      "cell_type": "code",
      "execution_count": null,
      "metadata": {
        "id": "91e562ae-8caf-4829-a73a-59d55bc5f103"
      },
      "outputs": [],
      "source": [
        "yhat"
      ],
      "id": "91e562ae-8caf-4829-a73a-59d55bc5f103"
    },
    {
      "cell_type": "code",
      "execution_count": null,
      "metadata": {
        "id": "4f9940d7-b0e4-449a-97bd-9ee587f1d82f"
      },
      "outputs": [],
      "source": [
        "if yhat > 0.5:\n",
        "    print(f'Predicted class is Unhealthy')\n",
        "else:\n",
        "    print(f'Predicted class is Healthy')"
      ],
      "id": "4f9940d7-b0e4-449a-97bd-9ee587f1d82f"
    },
    {
      "cell_type": "markdown",
      "metadata": {
        "id": "e7cf344e-6610-4d61-bd95-e593f47ffbdb"
      },
      "source": [
        "# 7.0 Save Model"
      ],
      "id": "e7cf344e-6610-4d61-bd95-e593f47ffbdb"
    },
    {
      "cell_type": "code",
      "execution_count": null,
      "metadata": {
        "id": "dc403c13-b4c0-4e83-8626-45d3c619e83b"
      },
      "outputs": [],
      "source": [
        "from tensorflow.keras.models import load_model"
      ],
      "id": "dc403c13-b4c0-4e83-8626-45d3c619e83b"
    },
    {
      "cell_type": "code",
      "execution_count": null,
      "metadata": {
        "id": "7810655a-3a45-4768-8eb0-7ff5eeb1b9f9"
      },
      "outputs": [],
      "source": [
        "model.save(os.path.join('models','leafhealth.h5'))"
      ],
      "id": "7810655a-3a45-4768-8eb0-7ff5eeb1b9f9"
    },
    {
      "cell_type": "code",
      "execution_count": null,
      "metadata": {
        "id": "d48a1c79-7a03-49b1-b788-bfbf30f71c5b"
      },
      "outputs": [],
      "source": [
        "new_model = load_model('models/leafhealth.h5')"
      ],
      "id": "d48a1c79-7a03-49b1-b788-bfbf30f71c5b"
    },
    {
      "cell_type": "code",
      "execution_count": null,
      "metadata": {
        "id": "7d9945c9-9824-4c89-8bc0-25288a52d1cb"
      },
      "outputs": [],
      "source": [
        "new_model.predict(np.expand_dims(resize/255, 0))"
      ],
      "id": "7d9945c9-9824-4c89-8bc0-25288a52d1cb"
    },
    {
      "cell_type": "code",
      "execution_count": null,
      "metadata": {
        "id": "60f2c2d9-c631-4547-8b4d-a1c2485dddfc"
      },
      "outputs": [],
      "source": [
        "#Verify that laoded model has the same achitecture and weights as the saved model\n",
        "new_model.summary()"
      ],
      "id": "60f2c2d9-c631-4547-8b4d-a1c2485dddfc"
    },
    {
      "cell_type": "markdown",
      "metadata": {
        "id": "2e45a351-c4de-479e-95e4-abe674b14c4a"
      },
      "source": [
        "# 8.0 Augmentation"
      ],
      "id": "2e45a351-c4de-479e-95e4-abe674b14c4a"
    },
    {
      "cell_type": "markdown",
      "metadata": {
        "id": "ef129824-b43b-4afe-820e-dcd4cf9158ca"
      },
      "source": [
        "NEED TO ADJUST SO THAT WHEN RUN THROUGH ONCE IT AUGMENTS ALL THE DATA"
      ],
      "id": "ef129824-b43b-4afe-820e-dcd4cf9158ca"
    },
    {
      "cell_type": "code",
      "execution_count": null,
      "metadata": {
        "id": "31063c5f-4509-46b8-847b-5273c492a5db"
      },
      "outputs": [],
      "source": [
        "import matplotlib.pyplot as plt\n",
        "import numpy as np\n",
        "import os\n",
        "import random\n",
        "import tensorflow as tf\n",
        "from tensorflow import keras\n",
        "from tensorflow.keras.preprocessing.image import ImageDataGenerator\n",
        "%matplotlib inline"
      ],
      "id": "31063c5f-4509-46b8-847b-5273c492a5db"
    },
    {
      "cell_type": "code",
      "execution_count": null,
      "metadata": {
        "id": "7b7c6f0d-8ff7-4731-9590-18e02a90baf9"
      },
      "outputs": [],
      "source": [
        "chosen_image = random.choice(os.listdir('data/healthy'))"
      ],
      "id": "7b7c6f0d-8ff7-4731-9590-18e02a90baf9"
    },
    {
      "cell_type": "code",
      "execution_count": null,
      "metadata": {
        "id": "5a9f98f9-75f8-4ec3-8aea-298dacbe2d86"
      },
      "outputs": [],
      "source": [
        "image_path = 'data/healthy/' + chosen_image"
      ],
      "id": "5a9f98f9-75f8-4ec3-8aea-298dacbe2d86"
    },
    {
      "cell_type": "code",
      "execution_count": null,
      "metadata": {
        "id": "74e3c80a-5fbf-433f-83d9-f51cbcac1ecf"
      },
      "outputs": [],
      "source": [
        "image = np.expand_dims(plt.imread(image_path),0)\n",
        "plt.imshow(image[0])"
      ],
      "id": "74e3c80a-5fbf-433f-83d9-f51cbcac1ecf"
    },
    {
      "cell_type": "code",
      "execution_count": null,
      "metadata": {
        "id": "8df2f8d8-17a8-4b9d-b915-2f97c72d5ce5"
      },
      "outputs": [],
      "source": [
        "gen = ImageDataGenerator(rotation_range=10, width_shift_range=0.1, height_shift_range=0.1, shear_range=0.15, zoom_range=0.1,\n",
        "    channel_shift_range=10., horizontal_flip=True)"
      ],
      "id": "8df2f8d8-17a8-4b9d-b915-2f97c72d5ce5"
    },
    {
      "cell_type": "code",
      "execution_count": null,
      "metadata": {
        "id": "7f685960-26bd-4090-ac46-99426cde7ce2"
      },
      "outputs": [],
      "source": [
        "aug_iter = gen.flow(image)\n",
        "aug_images = [next(aug_iter)[0].astype(np.uint8) for i in range(10)]"
      ],
      "id": "7f685960-26bd-4090-ac46-99426cde7ce2"
    },
    {
      "cell_type": "code",
      "execution_count": null,
      "metadata": {
        "id": "88647397-6901-4c1d-9961-7dc977db5d14"
      },
      "outputs": [],
      "source": [
        "plotImages(aug_images)"
      ],
      "id": "88647397-6901-4c1d-9961-7dc977db5d14"
    },
    {
      "cell_type": "code",
      "execution_count": null,
      "metadata": {
        "id": "699a58f8-f4c9-4b03-92fb-eb504eb11762"
      },
      "outputs": [],
      "source": [
        "aug_iter = gen.flow(image, save_to_dir='data/healthy', save_prefix='aug-image-', save_format='jpeg')"
      ],
      "id": "699a58f8-f4c9-4b03-92fb-eb504eb11762"
    }
  ],
  "metadata": {
    "accelerator": "GPU",
    "colab": {
      "collapsed_sections": [
        "b1431495-9f1b-4cd0-9254-5ddc1f247f38",
        "affec167-f53f-44d9-a38b-ed33132932ec",
        "e7cf344e-6610-4d61-bd95-e593f47ffbdb",
        "2e45a351-c4de-479e-95e4-abe674b14c4a"
      ],
      "provenance": [],
      "include_colab_link": true
    },
    "kernelspec": {
      "display_name": "classification",
      "language": "python",
      "name": "classification"
    },
    "language_info": {
      "codemirror_mode": {
        "name": "ipython",
        "version": 3
      },
      "file_extension": ".py",
      "mimetype": "text/x-python",
      "name": "python",
      "nbconvert_exporter": "python",
      "pygments_lexer": "ipython3",
      "version": "3.10.9"
    }
  },
  "nbformat": 4,
  "nbformat_minor": 5
}